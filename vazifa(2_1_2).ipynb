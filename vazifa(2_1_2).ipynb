{
  "cells": [
    {
      "cell_type": "markdown",
      "metadata": {
        "id": "view-in-github",
        "colab_type": "text"
      },
      "source": [
        "<a href=\"https://colab.research.google.com/github/bobir01/ds_tasks/blob/main/vazifa(2_1_2).ipynb\" target=\"_parent\"><img src=\"https://colab.research.google.com/assets/colab-badge.svg\" alt=\"Open In Colab\"/></a>"
      ]
    },
    {
      "cell_type": "markdown",
      "id": "b0b2080b",
      "metadata": {
        "id": "b0b2080b"
      },
      "source": [
        "Faqatgina `YOUR CODE HERE` yoki \"YOUR ANSWER HERE\" deyilgan joyga dasturingizni yoki javobingizni yozing"
      ]
    },
    {
      "cell_type": "code",
      "execution_count": null,
      "id": "e2f7598d",
      "metadata": {
        "id": "e2f7598d"
      },
      "outputs": [],
      "source": [
        "NAME = \"Mardonov Bobirjon\"\n",
        "COLLABORATORS = \"Mohirdev\""
      ]
    },
    {
      "cell_type": "markdown",
      "id": "fa132da4",
      "metadata": {
        "id": "fa132da4"
      },
      "source": [
        "---"
      ]
    },
    {
      "cell_type": "markdown",
      "id": "6bc9f403",
      "metadata": {
        "id": "6bc9f403"
      },
      "source": [
        "---\n",
        "# Ma'lumotlar tahlili\n",
        "\n",
        "## 2.1.1. N-O'lchovli massivlarga ishlov berish\n",
        "\n",
        "## Vazifa-2"
      ]
    },
    {
      "cell_type": "code",
      "execution_count": 1,
      "id": "cd543d6c",
      "metadata": {
        "id": "cd543d6c"
      },
      "outputs": [],
      "source": [
        "# Numpy kutubxonasini chaqirib olish\n",
        "import numpy as np"
      ]
    },
    {
      "cell_type": "markdown",
      "id": "b551a45c",
      "metadata": {
        "id": "b551a45c"
      },
      "source": [
        "### Masala(1): 2-o'lchamli massiv yaratish (1 point)\n",
        "\n",
        "**Masala sharti :** Elementlari 0 dan 9 gacha (9 ning o'zi massiv elementiga kirmaydi), qadami esa 1 ga teng bo'lgan (3, 3) o'lchamli massiv yarating. \n",
        "\n",
        "**Yordam :**  `arange`dan foydalanish ishni osonlashtiradi \n"
      ]
    },
    {
      "cell_type": "code",
      "execution_count": 9,
      "id": "62ce423b",
      "metadata": {
        "deletable": false,
        "nbgrader": {
          "cell_type": "code",
          "checksum": "9acc974e84c2aee92d94d6e833bf1305",
          "grade": false,
          "grade_id": "3x3array",
          "locked": false,
          "schema_version": 3,
          "solution": true,
          "task": false
        },
        "id": "62ce423b"
      },
      "outputs": [],
      "source": [
        "def nd_array():\n",
        "    \"\"\"Elementlari 0 dan 9 gacha (9 ning o'zi massiv elementiga kirmaydi), qadami esa 1 ga teng bo'lgan (3, 3) o'lchamli massiv \"\"\"\n",
        "    # YOUR CODE HERE\n",
        "    return np.arange(0, 9,1)\n",
        "    raise NotImplementedError()"
      ]
    },
    {
      "cell_type": "markdown",
      "id": "dcb65b5e",
      "metadata": {
        "id": "dcb65b5e"
      },
      "source": [
        "Sizning funksiyangiz massiv elementlari soni, `shape` massiv shakli, hamda elementlari 0~10 oralig'idagi numpy array ekanligi orqali tekshiriladi. Bundan tashqari bir qancha maxfiy testlardan o'tkaziladi (maslahatimiz aldashga urinmang). "
      ]
    },
    {
      "cell_type": "code",
      "execution_count": 11,
      "id": "fabe3025",
      "metadata": {
        "deletable": false,
        "editable": false,
        "nbgrader": {
          "cell_type": "code",
          "checksum": "82321c32305744c0210aeee8b64eea26",
          "grade": true,
          "grade_id": "correct_3x3array",
          "locked": true,
          "points": 1,
          "schema_version": 3,
          "solution": false,
          "task": false
        },
        "id": "fabe3025"
      },
      "outputs": [],
      "source": [
        "\"\"\"Funksiyani tekshirish\"\"\"\n",
        "arr = nd_array() # massiv\n",
        "assert arr.size == 9  # elementlar soni\n",
        "assert type(arr) == np.ndarray # #numpy array "
      ]
    },
    {
      "cell_type": "markdown",
      "id": "ea0fa389",
      "metadata": {
        "id": "ea0fa389"
      },
      "source": [
        "###  Masala(2): Indeks yordamida 2-o'lchamli massivlardan elementlarni  kesib olish (3 points)\n",
        "\n",
        "**Masala :** Yuqorida yaratilgan massivning elementlari 6 va 7 ga teng bo'lgan qismini kesib olish funksiyasini tuzing.\n",
        "\n",
        "**Yordam :** 6 va 7 turgan indekslarni aniqlab olib, shu indekslar yordamida kesib oling. **Natija:** array([6, 7]) ko'rinishida bo'lishi kerak. "
      ]
    },
    {
      "cell_type": "code",
      "execution_count": 14,
      "id": "2bb7eaf7",
      "metadata": {
        "deletable": false,
        "nbgrader": {
          "cell_type": "code",
          "checksum": "638aa8ddfe4153e2f3435b871acc40ca",
          "grade": false,
          "grade_id": "2dsliced_array",
          "locked": false,
          "schema_version": 3,
          "solution": true,
          "task": false
        },
        "colab": {
          "base_uri": "https://localhost:8080/"
        },
        "id": "2bb7eaf7",
        "outputId": "485abdc3-9ea3-4308-9be2-d61b64b36166"
      },
      "outputs": [
        {
          "output_type": "execute_result",
          "data": {
            "text/plain": [
              "array([6, 7])"
            ]
          },
          "metadata": {},
          "execution_count": 14
        }
      ],
      "source": [
        "def sliced_array_2d():\n",
        "    \"\"\"Yuqorida yaratilgan massivning elementlari 6 va 7 ga teng bo'lgan qismini kesib olish funksiyasi \"\"\"\n",
        "    arr = np.arange(0,9,1)\n",
        "    return arr[6:8]\n",
        "    raise NotImplementedError()\n"
      ]
    },
    {
      "cell_type": "markdown",
      "id": "41d30fda",
      "metadata": {
        "id": "41d30fda"
      },
      "source": [
        "Sizning funksiyangiz massiv elementlari soni, `shape` massiv shakli, hamda elementlari numpy array ekanligi orqali tekshiriladi. Bundan tashqari bir qancha maxfiy testlardan o'tkaziladi (maslahatimiz aldashga urinmang). "
      ]
    },
    {
      "cell_type": "code",
      "execution_count": 13,
      "id": "efda4be9",
      "metadata": {
        "deletable": false,
        "editable": false,
        "nbgrader": {
          "cell_type": "code",
          "checksum": "43d706fef12434ce13eb70db193fb444",
          "grade": true,
          "grade_id": "correct_2dsliced_array",
          "locked": true,
          "points": 3,
          "schema_version": 3,
          "solution": false,
          "task": false
        },
        "id": "efda4be9"
      },
      "outputs": [],
      "source": [
        "\"\"\"Funksiyani tekshirish\"\"\"\n",
        "sl_arr_2d = sliced_array_2d() # kesib olingan massiv\n",
        "assert sl_arr_2d.size == 2  # elementlar soni\n",
        "assert type(sl_arr_2d) == np.ndarray # #numpy array "
      ]
    },
    {
      "cell_type": "markdown",
      "id": "553a4a91",
      "metadata": {
        "id": "553a4a91"
      },
      "source": [
        "###  Masala(3): Indeks yordamida 3-o'lchamli massivdan elementlarni kesib olish (4 points)\n",
        "\n",
        "**Masala :**  3-o'lchamli massivni quyidagi listdan yarating, hamda 12, 13, 15, va 16  elementlarini kesib oling. \n",
        "\n",
        "                  [[[ 0,  1,  2],\n",
        "                    [ 3,  4,  5],\n",
        "                    [ 6,  7,  8]],\n",
        "\n",
        "                   [[ 9, 10, 11],\n",
        "                    [12, 13, 14],\n",
        "                    [15, 16, 17]],\n",
        "\n",
        "                   [[18, 19, 20],\n",
        "                    [21, 22, 23],\n",
        "                    [24, 25, 26]]]\n",
        "\n",
        "**Yordam :** Avval massivni ikki o'lchamli massivga keltirib, keyin kesib olishni amalga oshiring. \n",
        "\n",
        "\n",
        "**Natija:**  \n",
        "\n",
        "             array([[12, 13],\n",
        "                    [15, 16]])\n",
        "ko'rinishida bo'lishi kerak. "
      ]
    },
    {
      "cell_type": "markdown",
      "id": "3fee2da4",
      "metadata": {
        "id": "3fee2da4"
      },
      "source": [
        "Sizning funksiyangiz massiv elementlari soni, `shape` massiv shakli, hamda elementlari numpy array ekanligi orqali tekshiriladi. Bundan tashqari bir qancha maxfiy testlardan o'tkaziladi (maslahatimiz aldashga urinmang). "
      ]
    },
    {
      "cell_type": "code",
      "execution_count": null,
      "id": "d526e404",
      "metadata": {
        "deletable": false,
        "nbgrader": {
          "cell_type": "code",
          "checksum": "738e8b356eaa8e68563ca55106331cb6",
          "grade": false,
          "grade_id": "3dsliced_arr",
          "locked": false,
          "schema_version": 3,
          "solution": true,
          "task": false
        },
        "id": "d526e404"
      },
      "outputs": [],
      "source": [
        "def sliced_array_3d():\n",
        "    \"\"\"3-o'lchamli massivni yuqoridagi listdan yaratish, hamda 12, 13, 15, va 16 elementlarini kesib olish funksiyasi\"\"\"\n",
        "    arr3d= np.array([[[ 0,  1,  2],\n",
        "                      [ 3,  4,  5],\n",
        "                      [ 6,  7,  8]],\n",
        "\n",
        "                    [[ 9, 10, 11],\n",
        "                     [12, 13, 14],\n",
        "                     [15, 16, 17]],\n",
        "\n",
        "                    [[18, 19, 20],\n",
        "                     [21, 22, 23],\n",
        "                     [24, 25, 26]]])\n",
        "    arr2d = arr3d[1,1:][:2,:2]\n",
        "\n",
        "\n",
        "    return arr2d\n",
        "\n",
        "    raise NotImplementedError()"
      ]
    },
    {
      "cell_type": "code",
      "execution_count": 24,
      "id": "85111e6a",
      "metadata": {
        "deletable": false,
        "editable": false,
        "nbgrader": {
          "cell_type": "code",
          "checksum": "da9af4b5cc3db8220fd885e197c75a74",
          "grade": true,
          "grade_id": "correct_3dsliced_arr",
          "locked": true,
          "points": 4,
          "schema_version": 3,
          "solution": false,
          "task": false
        },
        "id": "85111e6a"
      },
      "outputs": [],
      "source": [
        "\"\"\"Funksiyani tekshirish\"\"\"\n",
        "sl_arr_3d = sliced_array_3d() # kesib olingan massiv\n",
        "assert sl_arr_3d.size == 4  # elementlar soni\n",
        "assert type(sl_arr_3d) == np.ndarray # #numpy array "
      ]
    },
    {
      "cell_type": "markdown",
      "id": "a988bb47",
      "metadata": {
        "id": "a988bb47"
      },
      "source": [
        "###  Masala(4): Boolean indeks yordamida 2-o'lchamli massivlardan elementlarni  kesib olish (2 points)\n",
        "\n",
        "**Masala :** Bizlarda,  \n",
        "        \n",
        "        ['Hasan', 'Husan', 'Javohir', 'Elyor', 'Hasan', 'Javohir', 'Elyor']\n",
        "\n",
        "**list**dagi kishilar va ularning **ma'lumot**lari \n",
        "       \n",
        "      [[5, 6, 1, 1],\n",
        "       [9, 1, 1, 1],\n",
        "       [7, 7, 4, 2],\n",
        "       [1, 5, 1, 9],\n",
        "       [9, 9, 4, 5],\n",
        "       [7, 5, 9, 6],\n",
        "       [5, 3, 7, 4]]\n",
        "ko'rinishda keltirilgan. \n",
        "\n",
        "\n",
        "Mana shu ma'lumotlardan **Javohir** va **Elyor** ismlariga tegishli ma'lumotlarni Boolean indekslash yordamida kesib olish funksiyasini tuzing. \n",
        "**Yordam :** Boolean indekslash video darsligiga murojat qiling. **Natija:** Natija (4, 4) o'lchamli massiv ko'rinishida, hamda dastlabki ikkita qattori quyidagicha\n",
        "\n",
        "    array([[7, 7, 4, 2],\n",
        "           [1, 5, 1, 9],\n",
        "           ...\n",
        "           ...        ]])"
      ]
    },
    {
      "cell_type": "code",
      "execution_count": 25,
      "id": "b3c06bba",
      "metadata": {
        "deletable": false,
        "nbgrader": {
          "cell_type": "code",
          "checksum": "8dc4cf0c4811ac958a384022d55ab4cc",
          "grade": false,
          "grade_id": "boolean_idx",
          "locked": false,
          "schema_version": 3,
          "solution": true,
          "task": false
        },
        "id": "b3c06bba"
      },
      "outputs": [],
      "source": [
        "def boolean_slicing():\n",
        "    \"\"\"Boolean indekslash yordamida ma'lumotlarni kesib olish \"\"\"\n",
        "    names = np.array(['Hasan', 'Husan', 'Javohir', 'Elyor', 'Hasan', 'Javohir', 'Elyor'])\n",
        "    data= np.array([[5, 6, 1, 1],\n",
        "                    [9, 1, 1, 1],\n",
        "                    [7, 7, 4, 2],\n",
        "                    [1, 5, 1, 9],\n",
        "                    [9, 9, 4, 5],\n",
        "                    [7, 5, 9, 6],\n",
        "                    [5, 3, 7, 4]])\n",
        "    return data[(names==\"Javohir\") | (names=='Elyor')]\n",
        "    \n",
        "    raise NotImplementedError()"
      ]
    },
    {
      "cell_type": "markdown",
      "id": "7407b59f",
      "metadata": {
        "id": "7407b59f"
      },
      "source": [
        "Sizning funksiyangiz massiv elementlari soni, `shape` massiv shakli, hamda elementlari numpy array ekanligi orqali tekshiriladi. Bundan tashqari bir qancha maxfiy testlardan o'tkaziladi (maslahatimiz aldashga urinmang). "
      ]
    },
    {
      "cell_type": "code",
      "execution_count": 26,
      "id": "3936329b",
      "metadata": {
        "deletable": false,
        "editable": false,
        "nbgrader": {
          "cell_type": "code",
          "checksum": "05fdc1eee5b76c353288e9f5588b5349",
          "grade": true,
          "grade_id": "correct_boolean_idx",
          "locked": true,
          "points": 2,
          "schema_version": 3,
          "solution": false,
          "task": false
        },
        "id": "3936329b"
      },
      "outputs": [],
      "source": [
        "\n",
        "\"\"\"Funksiyani tekshirish\"\"\"\n",
        "bool_idx = boolean_slicing() # kesib olingan massiv\n",
        "assert bool_idx.size == 16  # elementlar soni\n",
        "assert type(bool_idx) == np.ndarray # #numpy array "
      ]
    }
  ],
  "metadata": {
    "kernelspec": {
      "display_name": "Python 3 (ipykernel)",
      "language": "python",
      "name": "python3"
    },
    "language_info": {
      "codemirror_mode": {
        "name": "ipython",
        "version": 3
      },
      "file_extension": ".py",
      "mimetype": "text/x-python",
      "name": "python",
      "nbconvert_exporter": "python",
      "pygments_lexer": "ipython3",
      "version": "3.9.7"
    },
    "colab": {
      "name": "vazifa(2_1_2).ipynb",
      "provenance": [],
      "collapsed_sections": [],
      "include_colab_link": true
    }
  },
  "nbformat": 4,
  "nbformat_minor": 5
}