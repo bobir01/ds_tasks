{
  "cells": [
    {
      "cell_type": "markdown",
      "metadata": {
        "id": "view-in-github",
        "colab_type": "text"
      },
      "source": [
        "<a href=\"https://colab.research.google.com/github/bobir01/ds_tasks/blob/main/vazifa(2_1_3)_yakuniy.ipynb\" target=\"_parent\"><img src=\"https://colab.research.google.com/assets/colab-badge.svg\" alt=\"Open In Colab\"/></a>"
      ]
    },
    {
      "cell_type": "markdown",
      "id": "b7662fce",
      "metadata": {
        "id": "b7662fce"
      },
      "source": [
        "Faqatgina `YOUR CODE HERE` yoki \"YOUR ANSWER HERE\" deyilgan joyga dasturingizni yoki javobingizni yozing"
      ]
    },
    {
      "cell_type": "code",
      "source": [
        "from google.colab import drive\n",
        "drive.mount('/content/drive')"
      ],
      "metadata": {
        "colab": {
          "base_uri": "https://localhost:8080/"
        },
        "id": "sDqwTE9DEDu_",
        "outputId": "dc8fffec-5e24-4336-df9d-3f481bbe9af3"
      },
      "id": "sDqwTE9DEDu_",
      "execution_count": 1,
      "outputs": [
        {
          "output_type": "stream",
          "name": "stdout",
          "text": [
            "Mounted at /content/drive\n"
          ]
        }
      ]
    },
    {
      "cell_type": "code",
      "execution_count": null,
      "id": "eff44ac7",
      "metadata": {
        "id": "eff44ac7"
      },
      "outputs": [],
      "source": [
        "NAME = \"Mardonov Bobirjon\"\n",
        "COLLABORATORS = \"Mohirdev\""
      ]
    },
    {
      "cell_type": "markdown",
      "id": "2734624c",
      "metadata": {
        "id": "2734624c"
      },
      "source": [
        "---"
      ]
    },
    {
      "cell_type": "markdown",
      "id": "52703ab8",
      "metadata": {
        "id": "52703ab8"
      },
      "source": [
        "---\n",
        "# Ma'lumotlar tahlili\n",
        "\n",
        "## 2.1. Numpy kutubxonasi bilan ishlash\n",
        "\n",
        "## Vazifa-4 \n",
        "\n",
        "## Yakuniy vazifa"
      ]
    },
    {
      "cell_type": "code",
      "execution_count": 2,
      "id": "9cb40b17",
      "metadata": {
        "id": "9cb40b17"
      },
      "outputs": [],
      "source": [
        "# Numpy kutubxonasini chaqirib olish\n",
        "import numpy as np"
      ]
    },
    {
      "cell_type": "markdown",
      "id": "96fc8516",
      "metadata": {
        "id": "96fc8516"
      },
      "source": [
        "### Masala(1): Ma'lumotlarni yuklab olish (2-points).\n",
        "\n",
        "**Ma'lumotlar :** Ma'lumotlar ikkita faylda joylangan bo'lib, bu fayllar nomlari `gm_2020.npz` va `gm_2021.npz` ko'rinishda, bu fayllar mos ravishda GM Uzbekistan tomonidan 2020 va 2021 yillarning yanvar-iyul oylarida ishlab chiqarilgan avtomobillar modellari va ularning sonlari keltirilgan. `npz` kengaytmasidan ko'rinib turibdiki, xar bir fayl o'z ichiga massivlarni(bizning holatda ikkita massiv, (1) Avtomobil modellari nomi, (2) Ishlab chiqarilgan avtomobillar soni) mujassam etgan. \n",
        "\n",
        "Masala sharti shundan iboratki, har bir faylni yuklab ularni ikkita mos massivga ajratuvchi funksiyani tuzing. Tuzilajak funksiyangiz argument sifatida fayl nomini qabul qilishini ta'minlang. \n",
        "\n",
        "**Muhim**: Massivlar: `models` va `qnts` nomi ostida saqlangan.\n",
        "\n",
        "**Yordam :**  `load` metodi yordamida yuklab, so'ngra massiv nomlaridan foydalanib natijani qaytaring. \n",
        "\n",
        "**Natija**: Agar funksiyaga `gm_2020.npz` faylini uzatilsa, natija quyidagi ko'rinishda bo'lishi mumkin:\n",
        "\n",
        "(array(['Labo', 'Damas', ......., 'Gentra'], dtype='<U6'), array([ 4521, 30889, ......,  30368]))\n",
        "\n",
        "\n",
        "\n",
        "***Ma'lumot manbasi***: *gazeta.uz*"
      ]
    },
    {
      "cell_type": "code",
      "execution_count": 3,
      "id": "92f3647b",
      "metadata": {
        "deletable": false,
        "nbgrader": {
          "cell_type": "code",
          "checksum": "a93dbcf1fa42d6d3e1ce3384a935af6b",
          "grade": false,
          "grade_id": "load_data",
          "locked": false,
          "schema_version": 3,
          "solution": true,
          "task": false
        },
        "id": "92f3647b"
      },
      "outputs": [],
      "source": [
        "def load_data(file_name):\n",
        "    \"\"\"Har bir faylni yuklab ularni ikkita mos massivga ajratuvchi funksiyani tuzish \"\"\"\n",
        "    # YOUR CODE HERE\n",
        "    return np.load(file_name)\n",
        "\n",
        "    raise NotImplementedError()"
      ]
    },
    {
      "cell_type": "markdown",
      "id": "862f7d0d",
      "metadata": {
        "id": "862f7d0d"
      },
      "source": [
        "Funksiyangizni quyidagi cellda tekshirib oling. (Eslatma: Funksiya turli xil yashirin testlar orqali tekshiriladi, maslahatimiz, aldashga urinmang)"
      ]
    },
    {
      "cell_type": "code",
      "execution_count": 4,
      "id": "cfbeaf1e",
      "metadata": {
        "deletable": false,
        "editable": false,
        "nbgrader": {
          "cell_type": "code",
          "checksum": "dabad9d40394624a9a77f8efdca36a3c",
          "grade": true,
          "grade_id": "correct_load_data",
          "locked": true,
          "points": 2,
          "schema_version": 3,
          "solution": false,
          "task": false
        },
        "id": "cfbeaf1e"
      },
      "outputs": [],
      "source": [
        "\"\"\"Funksiyani tekshirish\"\"\"\n",
        "data1 = load_data('/content/drive/MyDrive/Colab Notebooks/ai.tasks/numpy_last/gm_2020.npz') # ma'lumotlar (2020)\n",
        "data2 = load_data('/content/drive/MyDrive/Colab Notebooks/ai.tasks/numpy_last/gm_2021.npz') # ma'lumotlar (2021)"
      ]
    },
    {
      "cell_type": "code",
      "source": [
        "data1['models']"
      ],
      "metadata": {
        "colab": {
          "base_uri": "https://localhost:8080/"
        },
        "id": "wF1nAtPSGQ_e",
        "outputId": "02f8de57-c25e-444e-827d-547ccedaa177"
      },
      "id": "wF1nAtPSGQ_e",
      "execution_count": 26,
      "outputs": [
        {
          "output_type": "execute_result",
          "data": {
            "text/plain": [
              "array(['Labo', 'Damas', 'Spark', 'Nexia', 'Cobalt', 'Gentra'], dtype='<U6')"
            ]
          },
          "metadata": {},
          "execution_count": 26
        }
      ]
    },
    {
      "cell_type": "markdown",
      "id": "4b4f5390",
      "metadata": {
        "id": "4b4f5390"
      },
      "source": [
        "### Masala(2): Jami ishlab chiqarilgan avtomobillar soni. (2-points)\n",
        "\n",
        "Yuqorida yaratilingan ma'lumotlarni yuklab ajratib oluvchi funksiyamizdan foydalanib, endilikda ma'lumotlar ustida amallar bajaramiz. \n",
        "\n",
        "**Masala :** Ma'lumotlardan foydalanib, 2020 va 2021  yillarda ishlab chiqarilgan jami avtomobillar sonini hisoblaydigan funksiya yarating.\n",
        "\n",
        "**Natija**: (168..., ...734) ko'rinishida bo'ladi. \n",
        " \n",
        "Bu yerda 168.... ta avtomabil 2020 yilda ishlab chiqarilgan. 2021 yilda esa ...734 ta avtomabil ishlab chiqarilan. "
      ]
    },
    {
      "cell_type": "code",
      "execution_count": 11,
      "id": "5397fd9a",
      "metadata": {
        "deletable": false,
        "nbgrader": {
          "cell_type": "code",
          "checksum": "bb1359b448d06f631fbe17d2c38e9a51",
          "grade": false,
          "grade_id": "total_qnts",
          "locked": false,
          "schema_version": 3,
          "solution": true,
          "task": false
        },
        "id": "5397fd9a"
      },
      "outputs": [],
      "source": [
        "def total_qnts():\n",
        "    \"\"\"Ma'lumotlardan foydalanib, 2020 va 2021 yillarda ishlab chiqarilgan jami avtomobillar sonini hisoblaydigan \n",
        "    funksiya yaratish.\"\"\"\n",
        "    data1 = load_data('/content/drive/MyDrive/Colab Notebooks/ai.tasks/numpy_last/gm_2020.npz') # ma'lumotlar (2020)\n",
        "    data2 = load_data('/content/drive/MyDrive/Colab Notebooks/ai.tasks/numpy_last/gm_2021.npz') # ma'lumotlar (2021)\n",
        "    return [data1['qnts'].sum(),data2['qnts'].sum()]\n",
        "    \"\"\"masala sharti biroz noaniq bo'libdi shu yerda nataja list'mi yoki tuple'mi aytib o'tilmagan ekan\"\"\"\n",
        "    raise NotImplementedError()"
      ]
    },
    {
      "cell_type": "markdown",
      "id": "7250c66f",
      "metadata": {
        "id": "7250c66f"
      },
      "source": [
        "Funksiyangizni quyidagi cellda tekshirib oling. (Eslatma: Funksiya turli xil yashirin testlar orqali tekshiriladi, maslahatimiz, aldashga urinmang)"
      ]
    },
    {
      "cell_type": "code",
      "execution_count": 12,
      "id": "22a8a14f",
      "metadata": {
        "deletable": false,
        "editable": false,
        "nbgrader": {
          "cell_type": "code",
          "checksum": "d80d660f06c7f2146c209825b2b09fd1",
          "grade": true,
          "grade_id": "correct_total_qnts",
          "locked": true,
          "points": 2,
          "schema_version": 3,
          "solution": false,
          "task": false
        },
        "colab": {
          "base_uri": "https://localhost:8080/"
        },
        "id": "22a8a14f",
        "outputId": "adef647d-ddf0-410b-96b7-7b67047d0402"
      },
      "outputs": [
        {
          "output_type": "execute_result",
          "data": {
            "text/plain": [
              "[168712, 124734]"
            ]
          },
          "metadata": {},
          "execution_count": 12
        }
      ],
      "source": [
        "\"\"\"Funksiyani tekshirish\"\"\"\n",
        "total = total_qnts() # 2020 va 2021 yillardagi jami ishlab chiqarilgan avtomabillar\n",
        "total"
      ]
    },
    {
      "cell_type": "markdown",
      "id": "b5a354a2",
      "metadata": {
        "id": "b5a354a2"
      },
      "source": [
        "### Masala(3): Ba'zi avtomabillarning ishlab chiqarilish sonlari. (3-points)\n",
        "\n",
        "> Indented block\n",
        "\n",
        "\n",
        "\n",
        "\n",
        "\n",
        "**Masala :** Tasavvur qiling, ish beruvchi sizdan faqatgina `Damas`, `Nexia`, `Cobalt`, va `Gentra`rusumli avtomabillarni 2020 va 2021 yillarda qancha ishlab chiqarilganini barcha ma'lumotlardan ajratib berishni so'radi. Siz, shu vazifani bajaradigan funksiyani tuzishingiz kerak. \n",
        "\n",
        " **Yordam**: Boolean indekslash mavzusiga murojat qiling.\n",
        " \n",
        " \n",
        " **Natija**: (array([30889, .....  30368]), array([33682 .....  26266])) ko'rinishida bo'ladi"
      ]
    },
    {
      "cell_type": "code",
      "execution_count": 30,
      "id": "6c736719",
      "metadata": {
        "deletable": false,
        "nbgrader": {
          "cell_type": "code",
          "checksum": "5d0d5621949e328510dcedaacb7bc3a5",
          "grade": false,
          "grade_id": "sel_models",
          "locked": false,
          "schema_version": 3,
          "solution": true,
          "task": false
        },
        "id": "6c736719"
      },
      "outputs": [],
      "source": [
        "def sel_models():\n",
        "    \"\"\"Faqatgina Damas, Nexia, Cobalt, va Gentra rusumli avtomabillarni 2020 va 2021 yillarda qancha ishlab chiqarilganini \n",
        "    barcha ma'lumotlardan ajratib olish\"\"\"\n",
        "    data1 = load_data('/content/drive/MyDrive/Colab Notebooks/ai.tasks/numpy_last/gm_2020.npz') # ma'lumotlar (2020)\n",
        "    data2 = load_data('/content/drive/MyDrive/Colab Notebooks/ai.tasks/numpy_last/gm_2021.npz') # ma'lumotlar (2021)\n",
        "    \n",
        "    boolData1=np.in1d(data1['models'],['Damas','Nexia','Cobalt', 'Gentra'])\n",
        "\n",
        "    boolData2=np.in1d(data2['models'],['Damas','Nexia','Cobalt', 'Gentra'])\n",
        "   \n",
        "    return [data1['qnts'][boolData1], data2['qnts'][boolData2]]\n",
        "\n",
        "\n",
        "\n",
        "    raise NotImplementedError()\n",
        "\n"
      ]
    },
    {
      "cell_type": "markdown",
      "id": "b97b63c3",
      "metadata": {
        "id": "b97b63c3"
      },
      "source": [
        "Funksiyangizni quyidagi cellda tekshirib oling. (Eslatma: Funksiya turli xil yashirin testlar orqali tekshiriladi, maslahatimiz, aldashga urinmang)"
      ]
    },
    {
      "cell_type": "code",
      "execution_count": 31,
      "id": "6f957f4a",
      "metadata": {
        "deletable": false,
        "editable": false,
        "nbgrader": {
          "cell_type": "code",
          "checksum": "26e42e7c8f4006db1c131d3c35fcb7da",
          "grade": true,
          "grade_id": "corr_sel_models",
          "locked": true,
          "points": 3,
          "schema_version": 3,
          "solution": false,
          "task": false
        },
        "colab": {
          "base_uri": "https://localhost:8080/"
        },
        "id": "6f957f4a",
        "outputId": "4a6a662e-e840-4617-9b5a-76e1704a2e3d"
      },
      "outputs": [
        {
          "output_type": "execute_result",
          "data": {
            "text/plain": [
              "[array([30889, 41663, 44901, 30368], dtype=int32),\n",
              " array([33682, 14442, 36317, 26266], dtype=int32)]"
            ]
          },
          "metadata": {},
          "execution_count": 31
        }
      ],
      "source": [
        "\"\"\"Funksiyani tekshirish\"\"\"\n",
        "sel_cars = sel_models() # 2020 va 2021 yillardagi ishlab chiqarilgan Damas, Nexia, Cobalt, va Gentra rusumli avtomabillar\n",
        "sel_cars"
      ]
    },
    {
      "cell_type": "markdown",
      "id": "9f6d1f2f",
      "metadata": {
        "id": "9f6d1f2f"
      },
      "source": [
        "### Masala(4): Ba'zi avtomabillarning ishlab chiqarilish sonlari umumiy ishlab chiqarilgan avtomabilarning qancha foizini tashkil etadi. (3-points)\n",
        "\n",
        "\n",
        "Yuqorida faqatgina `Damas`, `Nexia`, `Cobalt`, va `Gentra`rusumli avtomabillarni 2020 va 2021 yillarda qancha ishlab chiqarilganini barcha ma'lumotlardan ajratib oldik. \n",
        "\n",
        "\n",
        "**Masala :** Ana endilikda shu avtomabillarni jami ishlab chiqarilgan avtomabillarning qancha foizini tashkil etishini hisoblab ko'ramiz. Shu vazifani bajaruvchi funksiyani tuzing. \n",
        "\n",
        " **Yordam**: Masala(2)da jami avtomabillarning sonini hisoblab chiqgan edik, Masala(3)da esa ba'zi avtomabillarning sonini hisoblab topdik. Shu ma'lumotlardan foydalaning. \n",
        " \n",
        " **Hisoblash formulasi:** $$\\frac{Avtomabil\\;soni}{Jami\\; avtomabillar\\; soni}*100% $$\n",
        " \n",
        " \n",
        " **Natija**: (array([18.30871544, ..... 17.99990516]),\n",
        " array([27.00306252, ..... 21.0576106 ])) ko'rinishida bo'ladi\n",
        " \n",
        " Ya'ni, `Damas` rusumli avtomabil 2020 yilda jami ishlab chiqarishning 18.3% ni tashkil etadi 2021 yilda esa 27% ni tashkil etmoqda va h.k.\n",
        " "
      ]
    },
    {
      "cell_type": "code",
      "execution_count": 34,
      "id": "0b198bf4",
      "metadata": {
        "deletable": false,
        "nbgrader": {
          "cell_type": "code",
          "checksum": "0991cfad612a48d6ecf9700169aa661b",
          "grade": false,
          "grade_id": "ratio",
          "locked": false,
          "schema_version": 3,
          "solution": true,
          "task": false
        },
        "id": "0b198bf4"
      },
      "outputs": [],
      "source": [
        "def ratio_sel_models():\n",
        "    \"\"\"Ba'zi avtomabillarning ishlab chiqarish hajmi, jami ishlab chiqarilgan avtomabillar hajmining qanday \n",
        "    foizini egallashini hisoblash funksiyasi\"\"\"\n",
        "    return [(sel_cars[0]/total[0])*100, (sel_cars[1]/total[1])*100]\n",
        "    raise NotImplementedError()"
      ]
    },
    {
      "cell_type": "markdown",
      "id": "0904f1eb",
      "metadata": {
        "id": "0904f1eb"
      },
      "source": [
        ":Funksiyangizni quyidagi cellda tekshirib oling. (Eslatma: Funksiya turli xil yashirin testlar orqali tekshiriladi, maslahatimiz, aldashga urinmang)"
      ]
    },
    {
      "cell_type": "code",
      "execution_count": 35,
      "id": "5b23d1f0",
      "metadata": {
        "deletable": false,
        "editable": false,
        "nbgrader": {
          "cell_type": "code",
          "checksum": "d23a0fb1004da9ceb724db5e8fb4afd8",
          "grade": true,
          "grade_id": "ratio_correct",
          "locked": true,
          "points": 3,
          "schema_version": 3,
          "solution": false,
          "task": false
        },
        "colab": {
          "base_uri": "https://localhost:8080/"
        },
        "id": "5b23d1f0",
        "outputId": "3be619d1-08cf-46d1-b9d6-5626e772a646"
      },
      "outputs": [
        {
          "output_type": "execute_result",
          "data": {
            "text/plain": [
              "[array([18.30871544, 24.69474608, 26.61399308, 17.99990516]),\n",
              " array([27.00306252, 11.57823849, 29.11555791, 21.0576106 ])]"
            ]
          },
          "metadata": {},
          "execution_count": 35
        }
      ],
      "source": [
        "\"\"\"Funksiyani tekshirish\"\"\"\n",
        "ratio_sel_cars = ratio_sel_models() # 2020 va 2021 yillardagi ishlab chiqarilgan ba'zi avtomabillarning foizdagi ulushi\n",
        "ratio_sel_cars"
      ]
    },
    {
      "cell_type": "code",
      "source": [
        ""
      ],
      "metadata": {
        "id": "mmmuaLTMQuaj"
      },
      "id": "mmmuaLTMQuaj",
      "execution_count": null,
      "outputs": []
    }
  ],
  "metadata": {
    "kernelspec": {
      "display_name": "Python 3 (ipykernel)",
      "language": "python",
      "name": "python3"
    },
    "language_info": {
      "codemirror_mode": {
        "name": "ipython",
        "version": 3
      },
      "file_extension": ".py",
      "mimetype": "text/x-python",
      "name": "python",
      "nbconvert_exporter": "python",
      "pygments_lexer": "ipython3",
      "version": "3.9.7"
    },
    "colab": {
      "name": "vazifa(2_1_3)_yakuniy.ipynb",
      "provenance": [],
      "include_colab_link": true
    }
  },
  "nbformat": 4,
  "nbformat_minor": 5
}